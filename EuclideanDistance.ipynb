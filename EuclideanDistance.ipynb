{
  "nbformat": 4,
  "nbformat_minor": 0,
  "metadata": {
    "colab": {
      "provenance": [],
      "authorship_tag": "ABX9TyNGMlwhMgG05E+5pPXXNTo/",
      "include_colab_link": true
    },
    "kernelspec": {
      "name": "python3",
      "display_name": "Python 3"
    },
    "language_info": {
      "name": "python"
    }
  },
  "cells": [
    {
      "cell_type": "markdown",
      "metadata": {
        "id": "view-in-github",
        "colab_type": "text"
      },
      "source": [
        "<a href=\"https://colab.research.google.com/github/piyu18/KNN/blob/main/EuclideanDistance.ipynb\" target=\"_parent\"><img src=\"https://colab.research.google.com/assets/colab-badge.svg\" alt=\"Open In Colab\"/></a>"
      ]
    },
    {
      "cell_type": "markdown",
      "source": [
        "#### Euclidean Distance\n",
        "It is the length of the shortest distance between two vectors"
      ],
      "metadata": {
        "id": "51In4mKq5IuQ"
      }
    },
    {
      "cell_type": "code",
      "execution_count": 1,
      "metadata": {
        "colab": {
          "base_uri": "https://localhost:8080/"
        },
        "id": "gIH1pBOh2Hog",
        "outputId": "3d6d10ee-d001-456f-9665-73748b5d229b"
      },
      "outputs": [
        {
          "output_type": "execute_result",
          "data": {
            "text/plain": [
              "1.4142135623730951"
            ]
          },
          "metadata": {},
          "execution_count": 1
        }
      ],
      "source": [
        "import numpy as np\n",
        "X = np.array((1,2,3))\n",
        "Y = np.array((1,1,4))\n",
        "# find sum of squares\n",
        "sum_sq = np.sum(np.square(X-Y))\n",
        "euc_distance = np.sqrt(sum_sq)\n",
        "euc_distance"
      ]
    },
    {
      "cell_type": "code",
      "source": [
        "#Using np.linalg.norm\n",
        "\n",
        "X = np.array((1,2,3))\n",
        "Y = np.array((1,1,4))\n",
        "\n",
        "euc_distance = np.linalg.norm(X-Y)\n",
        "euc_distance"
      ],
      "metadata": {
        "colab": {
          "base_uri": "https://localhost:8080/"
        },
        "id": "sILaEqdt3mU2",
        "outputId": "b2ad3b7c-addf-4a76-ffc1-d1489eb57078"
      },
      "execution_count": 2,
      "outputs": [
        {
          "output_type": "execute_result",
          "data": {
            "text/plain": [
              "1.4142135623730951"
            ]
          },
          "metadata": {},
          "execution_count": 2
        }
      ]
    },
    {
      "cell_type": "code",
      "source": [],
      "metadata": {
        "id": "gedRnQ3j4mVJ"
      },
      "execution_count": null,
      "outputs": []
    }
  ]
}
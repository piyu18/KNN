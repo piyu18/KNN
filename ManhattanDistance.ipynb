{
  "nbformat": 4,
  "nbformat_minor": 0,
  "metadata": {
    "colab": {
      "provenance": [],
      "authorship_tag": "ABX9TyOLRoxJmo4RnB4e9hxGO8zA",
      "include_colab_link": true
    },
    "kernelspec": {
      "name": "python3",
      "display_name": "Python 3"
    },
    "language_info": {
      "name": "python"
    }
  },
  "cells": [
    {
      "cell_type": "markdown",
      "metadata": {
        "id": "view-in-github",
        "colab_type": "text"
      },
      "source": [
        "<a href=\"https://colab.research.google.com/github/piyu18/KNN/blob/main/ManhattanDistance.ipynb\" target=\"_parent\"><img src=\"https://colab.research.google.com/assets/colab-badge.svg\" alt=\"Open In Colab\"/></a>"
      ]
    },
    {
      "cell_type": "markdown",
      "source": [
        "#### Manhattan Distance: \n",
        "It is also known as taxicab distance or city block distance.\n",
        "It is the sum of absolute values of the difference between two sets of coordinates."
      ],
      "metadata": {
        "id": "adshB8Yz7AG4"
      }
    },
    {
      "cell_type": "code",
      "execution_count": 1,
      "metadata": {
        "id": "4K3aavZZ55s9"
      },
      "outputs": [],
      "source": [
        "def manhattan_distance(x,y):\n",
        "  return sum(abs(value1-value2) for value1,value2 in zip(x,y))"
      ]
    },
    {
      "cell_type": "code",
      "source": [
        "X = (1,2,3,4,5,6)\n",
        "Y = (7,8,9,1,2,3)\n",
        "manhattan_distance(X,Y)"
      ],
      "metadata": {
        "colab": {
          "base_uri": "https://localhost:8080/"
        },
        "id": "f8f9xtZn7tZA",
        "outputId": "d00660f6-a97d-4095-ab25-2492c382d9c8"
      },
      "execution_count": 2,
      "outputs": [
        {
          "output_type": "execute_result",
          "data": {
            "text/plain": [
              "27"
            ]
          },
          "metadata": {},
          "execution_count": 2
        }
      ]
    }
  ]
}
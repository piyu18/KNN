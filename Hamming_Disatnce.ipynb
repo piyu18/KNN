{
  "nbformat": 4,
  "nbformat_minor": 0,
  "metadata": {
    "colab": {
      "provenance": [],
      "authorship_tag": "ABX9TyOWS88ROUi0Mb1XSeMDnw5q",
      "include_colab_link": true
    },
    "kernelspec": {
      "name": "python3",
      "display_name": "Python 3"
    },
    "language_info": {
      "name": "python"
    }
  },
  "cells": [
    {
      "cell_type": "markdown",
      "metadata": {
        "id": "view-in-github",
        "colab_type": "text"
      },
      "source": [
        "<a href=\"https://colab.research.google.com/github/piyu18/KNN/blob/main/Hamming_Disatnce.ipynb\" target=\"_parent\"><img src=\"https://colab.research.google.com/assets/colab-badge.svg\" alt=\"Open In Colab\"/></a>"
      ]
    },
    {
      "cell_type": "markdown",
      "source": [
        "#### Hamming Distance:\n",
        "Mostly used in text processing. It will give the count of the point where vector values do not match"
      ],
      "metadata": {
        "id": "swse-KfY0rpM"
      }
    },
    {
      "cell_type": "code",
      "execution_count": 1,
      "metadata": {
        "id": "FTeeHyd8yaa0"
      },
      "outputs": [],
      "source": [
        "def hamming_distance(str1, str2):\n",
        "    '''\n",
        "      Find the hamming distance between two strings\n",
        "      Parameters\n",
        "      -----------\n",
        "      str1 : string\n",
        "      str2 : string\n",
        "    '''\n",
        "    i = 0\n",
        "    count = 0\n",
        " \n",
        "    while(i < len(str1)):\n",
        "        if(str1[i] != str2[i]):\n",
        "            count += 1\n",
        "        i += 1\n",
        "    return count"
      ]
    },
    {
      "cell_type": "code",
      "source": [
        "str1 = 'ABCDEF'\n",
        "str2 = 'AGHIJF'\n",
        "hamming_distance(str1,str2)"
      ],
      "metadata": {
        "colab": {
          "base_uri": "https://localhost:8080/"
        },
        "id": "WoFlqdjd0CFL",
        "outputId": "c4b2ee1d-9fc8-4503-d03a-ef5ef34e9070"
      },
      "execution_count": 2,
      "outputs": [
        {
          "output_type": "execute_result",
          "data": {
            "text/plain": [
              "4"
            ]
          },
          "metadata": {},
          "execution_count": 2
        }
      ]
    },
    {
      "cell_type": "code",
      "source": [],
      "metadata": {
        "id": "UOq_wjBX0Vss"
      },
      "execution_count": null,
      "outputs": []
    }
  ]
}